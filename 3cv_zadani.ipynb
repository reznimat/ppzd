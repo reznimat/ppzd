{
  "nbformat": 4,
  "nbformat_minor": 0,
  "metadata": {
    "colab": {
      "provenance": [],
      "include_colab_link": true
    },
    "kernelspec": {
      "name": "python3",
      "display_name": "Python 3"
    },
    "language_info": {
      "name": "python"
    }
  },
  "cells": [
    {
      "cell_type": "markdown",
      "metadata": {
        "id": "view-in-github",
        "colab_type": "text"
      },
      "source": [
        "<a href=\"https://colab.research.google.com/github/reznimat/ppzd/blob/main/3cv_zadani.ipynb\" target=\"_parent\"><img src=\"https://colab.research.google.com/assets/colab-badge.svg\" alt=\"Open In Colab\"/></a>"
      ]
    },
    {
      "cell_type": "markdown",
      "metadata": {
        "id": "AVa1UGj-qh36"
      },
      "source": [
        "## 🙇 Úlohy pro studenty ##\n",
        "\n",
        "Látku můžete procvičit splněním následujících úloh.\n",
        "\n",
        "<u>**Větvení, cykly, modulo**</u>\n",
        "\n",
        "**a)** Využitím cyklu FOR projděte rozsah čísel od 2200 do 2300 s krokem 5 a uvnitř cyklu testujte s využitím modulo, zda je číslo sudé či liché. Tuto informaci vždy vypište ve tvaru např. \"Číslo 2200 je sudé\", \"Číslo 2205 je liché\" atd.\n",
        "\n",
        "**b)** Vytvořte proměnnou *maximum* s číselnou hodnotou 1000 a proměnnou *alfa* s hodnotou 1. Dále vytvořte WHILE cyklus, který bude prováděn, dokud je *alfa* menší či rovna maximu. V rámci cyklu proveďte následující:\n",
        "- pokud je *alfa* dělitelná čtyřmi beze zbytku, tak k ní připočtěte 3 a pokračujte další iterací (tj. *continue*).\n",
        "- pokud neplatí, ale *alfa* je dělitelná třemi beze zbytku, ale není dělitelná šesti beze zbytku, tak k ní přičtěte 5.\n",
        "- pokud neplatí, ale *alfa* je dělitelná šesti beze zbytku a menší než 300, tak jí vynásobte 1.5.\n",
        "- pokud neplatí, ale *alfa* je z rozsahu <100;500>, tak jí umocněte na druhou.\n",
        "- pokud neplatí nic z předchozího, tak k *alfa* přičtěte 1.\n",
        "- Za provedenou podmínkou číslo vypište ve tvaru: \"Aktuální číslo je: XX\". (pozn.: pokud je tedy číslo dělitelné čtyřmi, tak nebude vypsáno).\n",
        "\n",
        "Program vypíše tato čísla: 2, 3, 8, 12, 20, 24, 32, 36, 44, 48, 56, 60, 68, 72, 80, 84, 92, 96, 104, 11449.\n",
        "\n",
        "<u>**Funkce a datové typy**</u>\n",
        "\n",
        "**c)** Vytvořte funkci pro výpočet obvodu obdélníka. Funkce má dva vstupní parametry a vrací vypočítanou hodnotu. Pokud je kterýkoliv parametr záporný, tak funkce vrací *None*. Pokud je funkce volána jen s jedním parametrem, tak se jedná o čtverec a funkce vrátí správný výsledek.\n",
        "\n",
        "**d)** Vytvořte pole, jehož jednotlivé položky budou slovníky s číselnými hodnotami pro X a Y, a naplňte ho alespoň pěti položkami. Dané pole projděte cyklem FOR a nad jednotlivými položkami volejte funkci pro výpočet obvodu obdélníka (z předchozího kroku). Získaný obvod vypište, nebo vypište informaci, že obvod nemohl být vypočítán.\n",
        "\n",
        "**e)** Využijte *set* (množinu unikátních hodnot), abyste z následujícího pole dat získali jen unikátní hodnoty (tj. bez opakování), a vypište unikátní hodnoty a informaci, kolik záznamů bylo \"odstraněno\".\n",
        "```\n",
        "data = [\"oplatka\",\"motorka\",\"strom\",\"strom\",\"strom\",\"jablko\",\"oplatka\",\"motorka\",\"strom\",\"hrom\",\"oplatka\"]\n",
        "```\n",
        "\n",
        "**f)** Projděte následující pole dat, určete stáří zvířat v roce 2020 a vypište nejmenší, největší a průměrný věk zvířat (pozor, narození je u zvířete uloženo jako textový řetězec).\n",
        "```\n",
        "zvirata = [\n",
        "  {\"jmeno\": \"lev\", \"narozen\": \"2016\"},\n",
        "  {\"jmeno\": \"labuť\", \"narozen\": \"2017\"},\n",
        "  {\"jmeno\": \"velbloud\", \"narozen\": \"2017\"},\n",
        "  {\"jmeno\": \"rys\", \"narozen\": \"2019\"},\n",
        "  {\"jmeno\": \"liška\", \"narozen\": \"2018\"},\n",
        "  {\"jmeno\": \"tchoř\", \"narozen\": \"2017\"},\n",
        "  {\"jmeno\": \"tučňák\", \"narozen\": \"2014\"},\n",
        "  {\"jmeno\": \"straka\", \"narozen\": \"2015\"},\n",
        "]\n",
        "```"
      ]
    },
    {
      "cell_type": "code",
      "source": [
        "\n",
        "zvirata = [\n",
        "  {\"jmeno\": \"lev\", \"narozen\": \"2016\"},\n",
        "  {\"jmeno\": \"labuť\", \"narozen\": \"2017\"},\n",
        "  {\"jmeno\": \"velbloud\", \"narozen\": \"2017\"},\n",
        "  {\"jmeno\": \"rys\", \"narozen\": \"2019\"},\n",
        "  {\"jmeno\": \"liška\", \"narozen\": \"2018\"},\n",
        "  {\"jmeno\": \"tchoř\", \"narozen\": \"2017\"},\n",
        "  {\"jmeno\": \"tučňák\", \"narozen\": \"2014\"},\n",
        "  {\"jmeno\": \"straka\", \"narozen\": \"2015\"},\n",
        "]\n",
        "\n",
        "suma = 0\n",
        "for zvire in zvirata:\n",
        "  vek = 2020 - int(zvire['narozen'])\n",
        "  zvire['vek'] = vek\n",
        "  suma += vek\n",
        "  print(zvire)\n",
        "\n",
        "print(\"prumer: \"+ str(suma / len(zvirata)))\n",
        "\n",
        "#########################################\n",
        "\n",
        "min = {'vek': 9999}\n",
        "max = {'vek': -9999}\n",
        "\n",
        "for zvire in zvirata:\n",
        "  if zvire['vek'] < min['vek']:\n",
        "    min = zvire\n",
        "  if zvire['vek'] > max['vek']:\n",
        "    max = zvire\n",
        "\n",
        "print(\"minimum\" + str(min))\n",
        "print(\"maximum\" + str(max))\n",
        "\n",
        "############################################\n",
        "\n",
        "min = 9999\n",
        "max = -9999\n",
        "minIndex = -1\n",
        "maxIndex = -1\n",
        "\n",
        "# jdu od 0 do (len(zvirata)-1)\n",
        "for i in range(0,len(zvirata)):\n",
        "  if zvirata[i]['vek'] < min:\n",
        "    min = zvirata[i]['vek']\n",
        "    minIndex = i\n",
        "\n",
        "  if zvirata[i]['vek'] > max:\n",
        "    max = zvirata[i]['vek']\n",
        "    maxIndex = i\n",
        "\n",
        "print(\"nejmensi: \"+ str(zvirata[minIndex]))\n",
        "print(\"nejvetsi: \"+ str(zvirata[maxIndex]))\n",
        "\n"
      ],
      "metadata": {
        "colab": {
          "base_uri": "https://localhost:8080/"
        },
        "id": "XHoAyZ05t-oB",
        "outputId": "6db568b7-4ce7-4083-9c35-b24486f95e5f"
      },
      "execution_count": null,
      "outputs": [
        {
          "output_type": "stream",
          "name": "stdout",
          "text": [
            "{'jmeno': 'lev', 'narozen': '2016', 'vek': 4}\n",
            "{'jmeno': 'labuť', 'narozen': '2017', 'vek': 3}\n",
            "{'jmeno': 'velbloud', 'narozen': '2017', 'vek': 3}\n",
            "{'jmeno': 'rys', 'narozen': '2019', 'vek': 1}\n",
            "{'jmeno': 'liška', 'narozen': '2018', 'vek': 2}\n",
            "{'jmeno': 'tchoř', 'narozen': '2017', 'vek': 3}\n",
            "{'jmeno': 'tučňák', 'narozen': '2014', 'vek': 6}\n",
            "{'jmeno': 'straka', 'narozen': '2015', 'vek': 5}\n",
            "prumer: 3.375\n",
            "minimum{'jmeno': 'rys', 'narozen': '2019', 'vek': 1}\n",
            "maximum{'jmeno': 'tučňák', 'narozen': '2014', 'vek': 6}\n",
            "nejmensi: {'jmeno': 'rys', 'narozen': '2019', 'vek': 1}\n",
            "nejvetsi: {'jmeno': 'tučňák', 'narozen': '2014', 'vek': 6}\n"
          ]
        }
      ]
    },
    {
      "cell_type": "code",
      "source": [
        "import math as m\n",
        "print(m.pow(2,3))"
      ],
      "metadata": {
        "colab": {
          "base_uri": "https://localhost:8080/"
        },
        "id": "E31hl1D2z4VU",
        "outputId": "a6941b73-b138-4019-ad15-7c016704ea10"
      },
      "execution_count": null,
      "outputs": [
        {
          "output_type": "stream",
          "name": "stdout",
          "text": [
            "8.0\n"
          ]
        }
      ]
    }
  ]
}