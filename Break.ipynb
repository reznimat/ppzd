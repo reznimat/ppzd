{
  "nbformat": 4,
  "nbformat_minor": 0,
  "metadata": {
    "colab": {
      "provenance": [],
      "authorship_tag": "ABX9TyMqp/+nD5SryoEoKLGpmRaa",
      "include_colab_link": true
    },
    "kernelspec": {
      "name": "python3",
      "display_name": "Python 3"
    },
    "language_info": {
      "name": "python"
    }
  },
  "cells": [
    {
      "cell_type": "markdown",
      "metadata": {
        "id": "view-in-github",
        "colab_type": "text"
      },
      "source": [
        "<a href=\"https://colab.research.google.com/github/reznimat/ppzd/blob/main/Break.ipynb\" target=\"_parent\"><img src=\"https://colab.research.google.com/assets/colab-badge.svg\" alt=\"Open In Colab\"/></a>"
      ]
    },
    {
      "cell_type": "code",
      "execution_count": 59,
      "metadata": {
        "colab": {
          "base_uri": "https://localhost:8080/"
        },
        "id": "RWqEHtW0USZe",
        "outputId": "40c7d42d-df67-413d-f3c8-760762faef0f"
      },
      "outputs": [
        {
          "output_type": "stream",
          "name": "stdout",
          "text": [
            "1 True\n",
            "2 True\n",
            "3 True\n",
            "4 False\n",
            "5 True\n",
            "6 False\n",
            "7 True\n",
            "8 False\n",
            "9 False\n",
            "10 False\n"
          ]
        }
      ],
      "source": [
        "for x in range(1,11):\n",
        "  prvocislo = True\n",
        "  for y in range(2,x):\n",
        "    if (x % y) == 0:\n",
        "      prvocislo = False\n",
        "      break\n",
        "\n",
        "  print(x, prvocislo)\n",
        "\n",
        " # if prvocislo == True:\n",
        " #   print(x)\n"
      ]
    }
  ]
}