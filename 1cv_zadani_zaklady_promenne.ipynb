{
  "nbformat": 4,
  "nbformat_minor": 0,
  "metadata": {
    "colab": {
      "provenance": [],
      "include_colab_link": true
    },
    "kernelspec": {
      "name": "python3",
      "display_name": "Python 3"
    },
    "language_info": {
      "name": "python"
    }
  },
  "cells": [
    {
      "cell_type": "markdown",
      "metadata": {
        "id": "view-in-github",
        "colab_type": "text"
      },
      "source": [
        "<a href=\"https://colab.research.google.com/github/reznimat/ppzd/blob/main/1cv_zadani_zaklady_promenne.ipynb\" target=\"_parent\"><img src=\"https://colab.research.google.com/assets/colab-badge.svg\" alt=\"Open In Colab\"/></a>"
      ]
    },
    {
      "cell_type": "markdown",
      "metadata": {
        "id": "SlKETvTj5uZI"
      },
      "source": [
        "## 🙇 Cvičení - proměnné a matematické operace ##\n",
        "\n",
        "V průběhu cvičení vypracujte následující úlohy. Samostatně vyhledávejte metody a postupy.\n",
        "\n",
        "Zdroj:\n",
        "\n",
        "*   Python a matematická knihovna math https://docs.python.org/3/library/math.html\n",
        "\n",
        "\n",
        "\n",
        "<u>**Proměnné a matematické operace**</u>\n",
        "\n",
        "**a)** Vytvořte proměnné pro jméno, šíři ramen a šíři boků a přiřaďte do nich hodnoty odpovídající Vašemu tělu (nebo smysluplné smyšlené). Všechny hodnoty vypište.\n",
        "\n",
        "**b)** Vytvořte proměnné pro druh ptáka, obvod hlavy a rozpětí křídel. Doplňte nějaké hodnoty a vypište je. Poté hodnoty přepište na jiné a znovu je vypište (výstupem programu tedy budou dva výpisy).\n",
        "\n",
        "**c)** Jak bychom vytvořili proměnnou gama s hodnotou 123 tak, abychom dali ostatním programátorům najevo, že ji nemají přepisovat (tj. že by měla být konstantní)?\n",
        "\n",
        "**d)** Napište kód, který Vám spočítá obvod a obsah čtverce po zadání jeho strany **a**.\n",
        "\n",
        "**e)** Napište kód, který Vám spočítá obvod a obsah kruhu po zadání jeho poloměru **r**.\n",
        "\n",
        "**f)** Vyzkoušejte si nějaké matematické operace dle https://www.w3schools.com/python/python_operators.asp"
      ]
    },
    {
      "cell_type": "code",
      "source": [
        "# a) Vytvořte proměnné pro jméno, šíři ramen a šíři boků a přiřaďte do nich hodnoty odpovídající Vašemu tělu (nebo smysluplné smyšlené). Všechny hodnoty vypište.\n",
        "\n",
        "jmeno = 'Matěj'\n",
        "sireRamen = 90\n",
        "sireBoku = 90\n",
        "\n",
        "print(jmeno + ' má ramena široká ' + str(sireRamen) + ' cm' + ' a boky ' + str(sireBoku) + ' cm.')"
      ],
      "metadata": {
        "colab": {
          "base_uri": "https://localhost:8080/"
        },
        "id": "qIS7oBtXsZzV",
        "outputId": "0769f6ef-c5fd-43a5-b94b-c89240685b1f"
      },
      "execution_count": 3,
      "outputs": [
        {
          "output_type": "stream",
          "name": "stdout",
          "text": [
            "Matěj má ramena široká 90 cm a boky 90 cm.\n"
          ]
        }
      ]
    },
    {
      "cell_type": "code",
      "source": [
        "# b) Vytvořte proměnné pro druh ptáka, obvod hlavy a rozpětí křídel.\n",
        "# Doplňte nějaké hodnoty a vypište je. Poté hodnoty přepište na jiné a znovu je vypište (výstupem programu tedy budou dva výpisy).\n",
        "\n",
        "druh = 'Datel černý'\n",
        "obvodHlavy = 8\n",
        "rozpetiKridel = 30\n",
        "\n",
        "print(druh + ' má obvod hlavy ' + str(obvodHlavy) +' cm a rozpětí křídel ' + str(rozpetiKridel)+' cm.')\n",
        "\n",
        "druh = 'Labuť velká'\n",
        "obvodHlavy = 45\n",
        "rozpetiKridel = 220\n",
        "\n",
        "print(druh + ' má obvod hlavy ' + str(obvodHlavy) +' cm a rozpětí křídel ' + str(rozpetiKridel)+' cm.')\n",
        "\n"
      ],
      "metadata": {
        "colab": {
          "base_uri": "https://localhost:8080/"
        },
        "id": "HXWo5hV2trif",
        "outputId": "4b9e3b8b-6663-4f6b-a4de-7f5bd49f681b"
      },
      "execution_count": 7,
      "outputs": [
        {
          "output_type": "stream",
          "name": "stdout",
          "text": [
            "Datel černý má obvod hlavy 8 cm a rozpětí křídel 30 cm.\n",
            "Labuť velká má obvod hlavy 45 cm a rozpětí křídel 220 cm.\n"
          ]
        }
      ]
    },
    {
      "cell_type": "code",
      "source": [
        "# c) Jak bychom vytvořili proměnnou gama s hodnotou 123 tak, abychom dali ostatním programátorům najevo, že ji nemají přepisovat (tj. že by měla být konstantní)?\n",
        "\n",
        "GAMA = 123\n",
        "\n",
        "print(GAMA)"
      ],
      "metadata": {
        "colab": {
          "base_uri": "https://localhost:8080/"
        },
        "id": "SQcx723v1Gwl",
        "outputId": "417c3a0f-06ca-42f4-b4b1-1fcdb175ffd0"
      },
      "execution_count": 8,
      "outputs": [
        {
          "output_type": "stream",
          "name": "stdout",
          "text": [
            "123\n"
          ]
        }
      ]
    },
    {
      "cell_type": "code",
      "source": [
        "# d) Napište kód, který Vám spočítá obvod a obsah čtverce po zadání jeho strany a.\n",
        "\n",
        "\n",
        "a = float(input(\"Zadejte délku strany a: \"))\n",
        "unit = input(\"Zadejte jednotky: \")\n",
        "\n",
        "obvod = 4*a\n",
        "obsah = a**2\n",
        "\n",
        "print()\n",
        "print('Obvod čtverce je: ' + str(obvod) + ' '+ unit)\n",
        "print('Obsah čtverce je: ' +str(obsah) + ' '+ unit + '\\u00b2')"
      ],
      "metadata": {
        "colab": {
          "base_uri": "https://localhost:8080/"
        },
        "id": "tMrQGY7y2L9D",
        "outputId": "f838a2fb-9d83-444b-b527-b95ea7c125e5"
      },
      "execution_count": 39,
      "outputs": [
        {
          "output_type": "stream",
          "name": "stdout",
          "text": [
            "Zadejte délku strany a: 5\n",
            "Zadejte jednotky: cm\n",
            "\n",
            "Obvod čtverce je: 20.0 cm\n",
            "Obsah čtverce je: 25.0 cm²\n"
          ]
        }
      ]
    },
    {
      "cell_type": "code",
      "source": [
        "# e) Napište kód, který Vám spočítá obvod a obsah kruhu po zadání jeho poloměru r.\n",
        "import math as m\n",
        "\n",
        "r = float(input(\"Zadejte poloměr kruhu: \"))\n",
        "unit = input(\"Zadejte jednotky: \")\n",
        "pi = m.pi\n",
        "\n",
        "obvod = 2*pi*r\n",
        "obsah = pi*r**2\n",
        "\n",
        "print()\n",
        "print('Obvod kruhu je: '+ str(obvod) + ' ' + unit)\n",
        "print('Obsah kruhu je: ' + str(obsah) + ' '+unit+'\\u00b2')"
      ],
      "metadata": {
        "colab": {
          "base_uri": "https://localhost:8080/"
        },
        "id": "QZZlwABM5JVT",
        "outputId": "30bc4b25-e81b-4c86-87d1-08a0a1c350f1"
      },
      "execution_count": 38,
      "outputs": [
        {
          "output_type": "stream",
          "name": "stdout",
          "text": [
            "Zadejte poloměr kruhu: 5\n",
            "Zadejte jednotky: cm\n",
            "\n",
            "Obvod kruhu je: 31.41592653589793 cm\n",
            "Obsah kruhu je: 78.53981633974483 cm²\n"
          ]
        }
      ]
    }
  ]
}