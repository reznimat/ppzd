{
  "nbformat": 4,
  "nbformat_minor": 0,
  "metadata": {
    "colab": {
      "provenance": [],
      "toc_visible": true,
      "include_colab_link": true
    },
    "kernelspec": {
      "name": "python3",
      "display_name": "Python 3"
    },
    "language_info": {
      "name": "python"
    }
  },
  "cells": [
    {
      "cell_type": "markdown",
      "metadata": {
        "id": "view-in-github",
        "colab_type": "text"
      },
      "source": [
        "<a href=\"https://colab.research.google.com/github/reznimat/ppzd/blob/main/3cv_zadani.ipynb\" target=\"_parent\"><img src=\"https://colab.research.google.com/assets/colab-badge.svg\" alt=\"Open In Colab\"/></a>"
      ]
    },
    {
      "cell_type": "markdown",
      "metadata": {
        "id": "AVa1UGj-qh36"
      },
      "source": [
        "## 🙇 Úlohy pro studenty ##\n",
        "\n",
        "Látku můžete procvičit splněním následujících úloh.\n",
        "\n",
        "<u>**Větvení, cykly, modulo**</u>\n",
        "\n",
        "**a)** Využitím cyklu FOR projděte rozsah čísel od 2200 do 2300 s krokem 5 a uvnitř cyklu testujte s využitím modulo, zda je číslo sudé či liché. Tuto informaci vždy vypište ve tvaru např. \"Číslo 2200 je sudé\", \"Číslo 2205 je liché\" atd.\n",
        "\n",
        "**b)** Vytvořte proměnnou *maximum* s číselnou hodnotou 1000 a proměnnou *alfa* s hodnotou 1. Dále vytvořte WHILE cyklus, který bude prováděn, dokud je *alfa* menší či rovna maximu. V rámci cyklu proveďte následující:\n",
        "- pokud je *alfa* dělitelná čtyřmi beze zbytku, tak k ní připočtěte 3 a pokračujte další iterací (tj. *continue*).\n",
        "- pokud neplatí, ale *alfa* je dělitelná třemi beze zbytku, ale není dělitelná šesti beze zbytku, tak k ní přičtěte 5.\n",
        "- pokud neplatí, ale *alfa* je dělitelná šesti beze zbytku a menší než 300, tak jí vynásobte 1.5.\n",
        "- pokud neplatí, ale *alfa* je z rozsahu <100;500>, tak jí umocněte na druhou.\n",
        "- pokud neplatí nic z předchozího, tak k *alfa* přičtěte 1.\n",
        "- Za provedenou podmínkou číslo vypište ve tvaru: \"Aktuální číslo je: XX\". (pozn.: pokud je tedy číslo dělitelné čtyřmi, tak nebude vypsáno).\n",
        "\n",
        "Program vypíše tato čísla: 2, 3, 8, 12, 20, 24, 32, 36, 44, 48, 56, 60, 68, 72, 80, 84, 92, 96, 104, 11449.\n",
        "\n",
        "<u>**Funkce a datové typy**</u>\n",
        "\n",
        "**c)** Vytvořte funkci pro výpočet obvodu obdélníka. Funkce má dva vstupní parametry a vrací vypočítanou hodnotu. Pokud je kterýkoliv parametr záporný, tak funkce vrací *None*. Pokud je funkce volána jen s jedním parametrem, tak se jedná o čtverec a funkce vrátí správný výsledek.\n",
        "\n",
        "**d)** Vytvořte pole, jehož jednotlivé položky budou slovníky s číselnými hodnotami pro X a Y, a naplňte ho alespoň pěti položkami. Dané pole projděte cyklem FOR a nad jednotlivými položkami volejte funkci pro výpočet obvodu obdélníka (z předchozího kroku). Získaný obvod vypište, nebo vypište informaci, že obvod nemohl být vypočítán.\n",
        "\n",
        "**e)** Využijte *set* (množinu unikátních hodnot), abyste z následujícího pole dat získali jen unikátní hodnoty (tj. bez opakování), a vypište unikátní hodnoty a informaci, kolik záznamů bylo \"odstraněno\".\n",
        "```\n",
        "data = [\"oplatka\",\"motorka\",\"strom\",\"strom\",\"strom\",\"jablko\",\"oplatka\",\"motorka\",\"strom\",\"hrom\",\"oplatka\"]\n",
        "```\n",
        "\n",
        "**f)** Projděte následující pole dat, určete stáří zvířat v roce 2020 a vypište nejmenší, největší a průměrný věk zvířat (pozor, narození je u zvířete uloženo jako textový řetězec).\n",
        "```\n",
        "zvirata = [\n",
        "  {\"jmeno\": \"lev\", \"narozen\": \"2016\"},\n",
        "  {\"jmeno\": \"labuť\", \"narozen\": \"2017\"},\n",
        "  {\"jmeno\": \"velbloud\", \"narozen\": \"2017\"},\n",
        "  {\"jmeno\": \"rys\", \"narozen\": \"2019\"},\n",
        "  {\"jmeno\": \"liška\", \"narozen\": \"2018\"},\n",
        "  {\"jmeno\": \"tchoř\", \"narozen\": \"2017\"},\n",
        "  {\"jmeno\": \"tučňák\", \"narozen\": \"2014\"},\n",
        "  {\"jmeno\": \"straka\", \"narozen\": \"2015\"},\n",
        "]\n",
        "```"
      ]
    },
    {
      "cell_type": "markdown",
      "source": [
        "# Větvení, cykly, modulo"
      ],
      "metadata": {
        "id": "0EuZJR0zUvQc"
      }
    },
    {
      "cell_type": "markdown",
      "source": [
        "## Cyklus FOR"
      ],
      "metadata": {
        "id": "hZMaoBXVdVhE"
      }
    },
    {
      "cell_type": "markdown",
      "source": [
        "a) Využitím cyklu FOR projděte rozsah čísel od 2200 do 2300 s krokem 5 a uvnitř cyklu testujte s využitím modulo, zda je číslo sudé či liché. Tuto informaci vždy vypište ve tvaru např. \"Číslo 2200 je sudé\", \"Číslo 2205 je liché\" atd."
      ],
      "metadata": {
        "id": "Q9mwip57dqQV"
      }
    },
    {
      "cell_type": "code",
      "source": [
        "for x in range(2200,2305,5):\n",
        "    if x%2 == 0:\n",
        "      print('Číslo ' + str(x) + ' je sudé.')\n",
        "    else:\n",
        "      print('Číslo ' + str(x) + ' je liché.')"
      ],
      "metadata": {
        "id": "RlhN5XlgdwRC",
        "outputId": "a83589c9-dcdc-4069-f2a9-be5375edc6fb",
        "colab": {
          "base_uri": "https://localhost:8080/"
        }
      },
      "execution_count": null,
      "outputs": [
        {
          "output_type": "stream",
          "name": "stdout",
          "text": [
            "Číslo 2200 je sudé.\n",
            "Číslo 2205 je liché.\n",
            "Číslo 2210 je sudé.\n",
            "Číslo 2215 je liché.\n",
            "Číslo 2220 je sudé.\n",
            "Číslo 2225 je liché.\n",
            "Číslo 2230 je sudé.\n",
            "Číslo 2235 je liché.\n",
            "Číslo 2240 je sudé.\n",
            "Číslo 2245 je liché.\n",
            "Číslo 2250 je sudé.\n",
            "Číslo 2255 je liché.\n",
            "Číslo 2260 je sudé.\n",
            "Číslo 2265 je liché.\n",
            "Číslo 2270 je sudé.\n",
            "Číslo 2275 je liché.\n",
            "Číslo 2280 je sudé.\n",
            "Číslo 2285 je liché.\n",
            "Číslo 2290 je sudé.\n",
            "Číslo 2295 je liché.\n",
            "Číslo 2300 je sudé.\n"
          ]
        }
      ]
    },
    {
      "cell_type": "markdown",
      "source": [
        "## Cyklus WHILE"
      ],
      "metadata": {
        "id": "CShRem5ye7xT"
      }
    },
    {
      "cell_type": "markdown",
      "source": [
        "Vytvořte proměnnou maximum s číselnou hodnotou 1000 a proměnnou alfa s hodnotou 1. Dále vytvořte WHILE cyklus, který bude prováděn, dokud je alfa menší či rovna maximu. V rámci cyklu proveďte následující:\n",
        "\n",
        "*    pokud je alfa dělitelná čtyřmi beze zbytku, tak k ní připočtěte 3 a pokračujte další iterací (tj. continue).\n",
        "*    pokud neplatí, ale alfa je dělitelná třemi beze zbytku, ale není dělitelná šesti beze zbytku, tak k ní přičtěte 5.\n",
        "*    pokud neplatí, ale alfa je dělitelná šesti beze zbytku a menší než 300, tak jí vynásobte 1.5.\n",
        "*    pokud neplatí, ale alfa je z rozsahu <100;500>, tak jí umocněte na druhou.\n",
        "*    pokud neplatí nic z předchozího, tak k alfa přičtěte 1.\n",
        "*    Za provedenou podmínkou číslo vypište ve tvaru: \"Aktuální číslo je: XX\". (pozn.: pokud je tedy číslo dělitelné čtyřmi, tak nebude vypsáno).\n",
        "\n",
        "Program vypíše tato čísla: 2, 3, 8, 12, 20, 24, 32, 36, 44, 48, 56, 60, 68, 72, 80, 84, 92, 96, 104, 11449.\n"
      ],
      "metadata": {
        "id": "zVlUoq8lfC56"
      }
    },
    {
      "cell_type": "code",
      "source": [
        "maximum = 1000\n",
        "alfa = 1\n",
        "\n",
        "while alfa <= maximum:\n",
        "    if (alfa % 4) == 0: #pokud je alfa dělitelná čtyřmi beze zbytku, tak k ní připočtěte 3 a pokračujte další iterací (tj. continue).\n",
        "      alfa += 3\n",
        "      continue\n",
        "    elif (alfa % 3) == 0 and (alfa % 6) != 0: #pokud neplatí, ale alfa je dělitelná třemi beze zbytku, ale není dělitelná šesti beze zbytku, tak k ní přičtěte 5\n",
        "      alfa += 5\n",
        "    elif (alfa % 6) == 0 and anlfa < 300:\n",
        "      alfa *= 1.5\n",
        "    elif alfa >= 100 and alfa <=500:\n",
        "      alfa = alfa**2\n",
        "    else:\n",
        "      alfa += 1\n",
        "\n",
        "    print('Aktuální číslo je: '+str(alfa))\n"
      ],
      "metadata": {
        "id": "2fFK-nF5fUGC",
        "outputId": "25a13f93-b466-453a-b920-a2a24cd57367",
        "colab": {
          "base_uri": "https://localhost:8080/"
        }
      },
      "execution_count": null,
      "outputs": [
        {
          "output_type": "stream",
          "name": "stdout",
          "text": [
            "Aktuální číslo je: 2\n",
            "Aktuální číslo je: 3\n",
            "Aktuální číslo je: 8\n",
            "Aktuální číslo je: 12\n",
            "Aktuální číslo je: 20\n",
            "Aktuální číslo je: 24\n",
            "Aktuální číslo je: 32\n",
            "Aktuální číslo je: 36\n",
            "Aktuální číslo je: 44\n",
            "Aktuální číslo je: 48\n",
            "Aktuální číslo je: 56\n",
            "Aktuální číslo je: 60\n",
            "Aktuální číslo je: 68\n",
            "Aktuální číslo je: 72\n",
            "Aktuální číslo je: 80\n",
            "Aktuální číslo je: 84\n",
            "Aktuální číslo je: 92\n",
            "Aktuální číslo je: 96\n",
            "Aktuální číslo je: 104\n",
            "Aktuální číslo je: 11449\n"
          ]
        }
      ]
    },
    {
      "cell_type": "markdown",
      "source": [
        "# Funkce a datové typy"
      ],
      "metadata": {
        "id": "k1zFbasfVOoh"
      }
    },
    {
      "cell_type": "markdown",
      "source": [
        "## Funkce pro obdélník"
      ],
      "metadata": {
        "id": "vrycbVofibpV"
      }
    },
    {
      "cell_type": "markdown",
      "source": [
        "Vytvořte funkci pro výpočet obvodu obdélníka. Funkce má dva vstupní parametry a vrací vypočítanou hodnotu. Pokud je kterýkoliv parametr záporný, tak funkce vrací None. Pokud je funkce volána jen s jedním parametrem, tak se jedná o čtverec a funkce vrátí správný výsledek"
      ],
      "metadata": {
        "id": "IUMWZ3gTikwa"
      }
    },
    {
      "cell_type": "code",
      "source": [
        "def obvod(a,b=0): # dvouargumentová funkce, b má defaultní hodnotu 0, pokud nebude zadána\n",
        "  if (a < 0 or b < 0): return None # pokud je a nebo b menší než 0, vrátí None\n",
        "  if (b==0): b=a # když je b = 0 nastav proměnné b hodnotu a - pak počítá obvod čtverce\n",
        "  obv = 2*(a+b) # vzorec pro obvod obdélníku\n",
        "  return obv # vrací hondotu obv\n",
        "\n",
        "o = obvod(1)\n",
        "print(o)"
      ],
      "metadata": {
        "id": "ueyWC4LpisDF",
        "outputId": "1bda8531-1884-4ac6-82bd-b3e52b021f96",
        "colab": {
          "base_uri": "https://localhost:8080/"
        }
      },
      "execution_count": null,
      "outputs": [
        {
          "output_type": "stream",
          "name": "stdout",
          "text": [
            "4\n"
          ]
        }
      ]
    },
    {
      "cell_type": "markdown",
      "source": [
        "## Pole a slovníky"
      ],
      "metadata": {
        "id": "Af4anWZFV25K"
      }
    },
    {
      "cell_type": "markdown",
      "source": [
        "Vytvořte pole, jehož jednotlivé položky budou slovníky s číselnými hodnotami pro X a Y, a naplňte ho alespoň pěti položkami. Dané pole projděte cyklem FOR a nad jednotlivými položkami volejte funkci pro výpočet obvodu obdélníka (z předchozího kroku). Získaný obvod vypište, nebo vypište informaci, že obvod nemohl být vypočítán."
      ],
      "metadata": {
        "id": "P84eWRSDV-pt"
      }
    },
    {
      "cell_type": "code",
      "source": [
        "def obvod(a,b=0): # dvouargumentová funkce, b má defaoultní hodnotu 0, pokud nebude zadána\n",
        "  if (a < 0 or b < 0): return None # pokud je a nebo b menší než 0, vrátí None\n",
        "  if (b==0): b=a # když je b = 0 nastav proměnné b hodnotu a - pak počítá obvod čtverce\n",
        "  obv = 2*(a+b) # vzorec pro obvod obdélníku\n",
        "  return obv # vrací hondotu obv\n",
        "\n",
        "obdelniky = [\n",
        "  { \"x\": 2, \"y\": 3 },\n",
        "  { \"x\": -2, \"y\": 3 },\n",
        "  { \"x\": 2, \"y\": -3 },\n",
        "  { \"x\": 2 },\n",
        "  { \"x\": -2 },\n",
        "]\n",
        "\n",
        "for x in obdelniky:\n",
        "   o=obvod(x[\"x\"],x[\"y\"])\n",
        "   print(o)"
      ],
      "metadata": {
        "id": "nHMZIa6vWO-N",
        "outputId": "8fad8486-483f-4a77-ecfb-0b23c9f52646",
        "colab": {
          "base_uri": "https://localhost:8080/",
          "height": 251
        }
      },
      "execution_count": null,
      "outputs": [
        {
          "output_type": "stream",
          "name": "stdout",
          "text": [
            "10\n",
            "None\n",
            "None\n"
          ]
        },
        {
          "output_type": "error",
          "ename": "KeyError",
          "evalue": "'y'",
          "traceback": [
            "\u001b[0;31m---------------------------------------------------------------------------\u001b[0m",
            "\u001b[0;31mKeyError\u001b[0m                                  Traceback (most recent call last)",
            "\u001b[0;32m<ipython-input-23-02ff412b21a1>\u001b[0m in \u001b[0;36m<cell line: 15>\u001b[0;34m()\u001b[0m\n\u001b[1;32m     14\u001b[0m \u001b[0;34m\u001b[0m\u001b[0m\n\u001b[1;32m     15\u001b[0m \u001b[0;32mfor\u001b[0m \u001b[0mx\u001b[0m \u001b[0;32min\u001b[0m \u001b[0mobdelniky\u001b[0m\u001b[0;34m:\u001b[0m\u001b[0;34m\u001b[0m\u001b[0;34m\u001b[0m\u001b[0m\n\u001b[0;32m---> 16\u001b[0;31m    \u001b[0mo\u001b[0m\u001b[0;34m=\u001b[0m\u001b[0mobvod\u001b[0m\u001b[0;34m(\u001b[0m\u001b[0mx\u001b[0m\u001b[0;34m[\u001b[0m\u001b[0;34m\"x\"\u001b[0m\u001b[0;34m]\u001b[0m\u001b[0;34m,\u001b[0m\u001b[0mx\u001b[0m\u001b[0;34m[\u001b[0m\u001b[0;34m\"y\"\u001b[0m\u001b[0;34m]\u001b[0m\u001b[0;34m)\u001b[0m\u001b[0;34m\u001b[0m\u001b[0;34m\u001b[0m\u001b[0m\n\u001b[0m\u001b[1;32m     17\u001b[0m    \u001b[0mprint\u001b[0m\u001b[0;34m(\u001b[0m\u001b[0mo\u001b[0m\u001b[0;34m)\u001b[0m\u001b[0;34m\u001b[0m\u001b[0;34m\u001b[0m\u001b[0m\n",
            "\u001b[0;31mKeyError\u001b[0m: 'y'"
          ]
        }
      ]
    },
    {
      "cell_type": "markdown",
      "source": [
        "## Set"
      ],
      "metadata": {
        "id": "Mf_Z69P-95Mc"
      }
    },
    {
      "cell_type": "markdown",
      "source": [
        "Využijte set (množinu unikátních hodnot), abyste z následujícího pole dat získali jen unikátní hodnoty (tj. bez opakování), a vypište unikátní hodnoty a informaci, kolik záznamů bylo \"odstraněno\".\n",
        "```\n",
        "data = [\"oplatka\",\"motorka\",\"strom\",\"strom\",\"strom\",\"jablko\",\"oplatka\",\"motorka\",\"strom\",\"hrom\",\"oplatka\"]\n",
        "```"
      ],
      "metadata": {
        "id": "LnLE-adM99n0"
      }
    },
    {
      "cell_type": "code",
      "source": [
        "# moje řešení\n",
        "\n",
        "data = [\"oplatka\",\"motorka\",\"strom\",\"strom\",\"strom\",\"jablko\",\"oplatka\",\"motorka\",\"strom\",\"hrom\",\"oplatka\"]\n",
        "pred = len(data)\n",
        "data = set(data)\n",
        "po = len(data)\n",
        "\n",
        "print(data)\n",
        "print('Odstraněno bylo '+str(pred-po)+' prvků seznamu.')"
      ],
      "metadata": {
        "id": "se524Ja_-JuT",
        "colab": {
          "base_uri": "https://localhost:8080/"
        },
        "outputId": "eae5ee99-e3ed-46c3-a365-8e677f9d2adf"
      },
      "execution_count": 4,
      "outputs": [
        {
          "output_type": "stream",
          "name": "stdout",
          "text": [
            "{'strom', 'hrom', 'motorka', 'jablko', 'oplatka'}\n",
            "Odstraněno bylo 6 prvků seznamu.\n"
          ]
        }
      ]
    },
    {
      "cell_type": "code",
      "source": [
        "# správné řešení\n",
        "\n",
        "# vstupní data\n",
        "data = [\"oplatka\",\"motorka\",\"strom\",\"strom\",\"strom\",\"jablko\",\"oplatka\",\"motorka\",\"strom\",\"hrom\",\"oplatka\"]\n",
        "# převod pole na set hodnot\n",
        "uniq = set(data)\n",
        "# informace o dostranění\n",
        "print(\"Odstraněno:\", (len(data) - len(uniq)) )  # vypíše: Odstraněno: 6\n",
        "# výpis unikátních hodnot\n",
        "print(uniq)  # vypíše: {'motorka', 'strom', 'jablko', 'hrom', 'oplatka'}"
      ],
      "metadata": {
        "id": "5T3J7krEhx4f"
      },
      "execution_count": null,
      "outputs": []
    },
    {
      "cell_type": "markdown",
      "source": [
        "## Nová sekce"
      ],
      "metadata": {
        "id": "7I_qIcJb-KmA"
      }
    },
    {
      "cell_type": "markdown",
      "source": [
        " Projděte následující pole dat, určete stáří zvířat v roce 2020 a vypište nejmenší, největší a průměrný věk zvířat (pozor, narození je u zvířete uloženo jako textový řetězec).\n",
        "\n",
        "```\n",
        "zvirata = [\n",
        "  {\"jmeno\": \"lev\", \"narozen\": \"2016\"},\n",
        "  {\"jmeno\": \"labuť\", \"narozen\": \"2017\"},\n",
        "  {\"jmeno\": \"velbloud\", \"narozen\": \"2017\"},\n",
        "  {\"jmeno\": \"rys\", \"narozen\": \"2019\"},\n",
        "  {\"jmeno\": \"liška\", \"narozen\": \"2018\"},\n",
        "  {\"jmeno\": \"tchoř\", \"narozen\": \"2017\"},\n",
        "  {\"jmeno\": \"tučňák\", \"narozen\": \"2014\"},\n",
        "  {\"jmeno\": \"straka\", \"narozen\": \"2015\"},\n",
        "]\n",
        "```"
      ],
      "metadata": {
        "id": "KzqWwZX_-TcW"
      }
    },
    {
      "cell_type": "code",
      "source": [
        "pass"
      ],
      "metadata": {
        "id": "1aR0DmCd-XSW"
      },
      "execution_count": null,
      "outputs": []
    }
  ]
}