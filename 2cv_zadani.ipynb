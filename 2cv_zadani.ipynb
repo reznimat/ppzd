{
  "nbformat": 4,
  "nbformat_minor": 0,
  "metadata": {
    "colab": {
      "provenance": [],
      "toc_visible": true,
      "include_colab_link": true
    },
    "kernelspec": {
      "name": "python3",
      "display_name": "Python 3"
    },
    "language_info": {
      "name": "python"
    }
  },
  "cells": [
    {
      "cell_type": "markdown",
      "metadata": {
        "id": "view-in-github",
        "colab_type": "text"
      },
      "source": [
        "<a href=\"https://colab.research.google.com/github/reznimat/ppzd/blob/main/2cv_zadani.ipynb\" target=\"_parent\"><img src=\"https://colab.research.google.com/assets/colab-badge.svg\" alt=\"Open In Colab\"/></a>"
      ]
    },
    {
      "cell_type": "markdown",
      "metadata": {
        "id": "2cVoQCcY9evu"
      },
      "source": [
        "# 2. cvičení\n",
        "\n",
        "Úkoly:\n",
        "\n",
        "1.   Podmínka if - podle hodnoty proměnné x vypište informaci, jestli je větší nebo menší než číslo 5.\n",
        "2.   Vytvořte pole s křestními jmény některých Vašich spolužáků.\n",
        "3.   Vypište toto pole v podobě: **můj spolužák se jmenuje *Honza***\n",
        "4.   Seřaďte pole podle abecedy a opět vypište.\n",
        "5.   Vypište všechna sudá čísla od 2 do 100. (Nápověda: 2, 4 ... 100)\n",
        "6.   Vypište všechna prvočísla od 2 do 100. Definice prvočísel viz Google."
      ]
    },
    {
      "cell_type": "markdown",
      "source": [
        "# 1.   Podmínka if\n",
        "podle hodnoty proměnné x vypište informaci, jestli je větší nebo menší než číslo 5."
      ],
      "metadata": {
        "id": "Ej1mKmVISBEm"
      }
    },
    {
      "cell_type": "code",
      "source": [
        "# Podmínka if - podle hodnoty proměnné x vypište informaci, jestli je větší nebo menší než číslo 5.\n",
        "\n",
        "x = float(input('Zadejte číslo x: '))\n",
        "\n",
        "if x > 5:\n",
        "  print('x je větší něž 5')\n",
        "elif x < 5:\n",
        "  print ('x je menší než 5')\n",
        "else:\n",
        "  print ('x je rovno 5')"
      ],
      "metadata": {
        "id": "_TlA2jVQFU5_",
        "outputId": "71dba989-e624-432b-bf70-679760172948",
        "colab": {
          "base_uri": "https://localhost:8080/"
        }
      },
      "execution_count": null,
      "outputs": [
        {
          "output_type": "stream",
          "name": "stdout",
          "text": [
            "Zadejte číslo x: 5\n",
            "x je rovno 5\n"
          ]
        }
      ]
    },
    {
      "cell_type": "markdown",
      "source": [
        "#  2.   Pole s křestními jmény"
      ],
      "metadata": {
        "id": "jcYin9QUSTS2"
      }
    },
    {
      "cell_type": "code",
      "source": [
        "# Vytvořte pole s křestními jmény některých Vašich spolužáků.\n",
        "seznamSpoluzaku =['Lenka', 'Zdeňka', 'Markéta', 'Niki', 'Láďa', 'Andrea']\n",
        "\n",
        "print(seznamSpoluzaku)"
      ],
      "metadata": {
        "id": "DxZmM5R2HLq9",
        "outputId": "488c2d0e-c497-4a7b-ce5b-5247e985b099",
        "colab": {
          "base_uri": "https://localhost:8080/"
        }
      },
      "execution_count": null,
      "outputs": [
        {
          "output_type": "stream",
          "name": "stdout",
          "text": [
            "['Lenka', 'Zdeňka', 'Markéta', 'Niki', 'Láďa', 'Andrea']\n"
          ]
        }
      ]
    },
    {
      "cell_type": "markdown",
      "source": [
        "# 3.   Vypište pole v podobě: **můj spolužák se jmenuje *Honza***"
      ],
      "metadata": {
        "id": "h2b-Ztw9Scrv"
      }
    },
    {
      "cell_type": "code",
      "source": [
        "# Vypište toto pole v podobě: můj spolužák se jmenuje Honza\n",
        "\n",
        "seznamSpoluzaku =['Lenka', 'Zdeňka', 'Markéta', 'Niki', 'Láďa', 'Andrea']\n",
        "\n",
        "for x in seznamSpoluzaku:\n",
        "  print('Můj spolužák se jmenuje '+ x)"
      ],
      "metadata": {
        "id": "Dxy_5IYaJuQH",
        "outputId": "68662000-4b57-4635-bfd7-3710e5573165",
        "colab": {
          "base_uri": "https://localhost:8080/"
        }
      },
      "execution_count": null,
      "outputs": [
        {
          "output_type": "stream",
          "name": "stdout",
          "text": [
            "Můj spolužák se jmenuje Lenka\n",
            "Můj spolužák se jmenuje Zdeňka\n",
            "Můj spolužák se jmenuje Markéta\n",
            "Můj spolužák se jmenuje Niki\n",
            "Můj spolužák se jmenuje Láďa\n",
            "Můj spolužák se jmenuje Andrea\n"
          ]
        }
      ]
    },
    {
      "cell_type": "markdown",
      "source": [
        "# 4.   Seřaďte pole podle abecedy."
      ],
      "metadata": {
        "id": "tAzk_ZbmSm9L"
      }
    },
    {
      "cell_type": "code",
      "source": [
        "seznamSpoluzaku =['Lenka', 'Zdeňka', 'Markéta', 'Niki', 'Láďa']\n",
        "\n",
        "seznamSpoluzaku.sort()\n",
        "\n",
        "print(seznamSpoluzaku)"
      ],
      "metadata": {
        "id": "yZn4SQkrKg2a",
        "outputId": "30f56ffa-1eaa-4e17-a999-3a5428c1c5ab",
        "colab": {
          "base_uri": "https://localhost:8080/"
        }
      },
      "execution_count": null,
      "outputs": [
        {
          "output_type": "stream",
          "name": "stdout",
          "text": [
            "['Lenka', 'Láďa', 'Markéta', 'Niki', 'Zdeňka']\n"
          ]
        }
      ]
    },
    {
      "cell_type": "markdown",
      "source": [
        "# 5. Vypište všechna sudá čísla od 2 do 100.\n",
        "(Nápověda: 2, 4 ... 100)"
      ],
      "metadata": {
        "id": "EwuPcgVnS0qq"
      }
    },
    {
      "cell_type": "code",
      "source": [
        "# while cyklus\n",
        "x = 2\n",
        "while x <= 100:\n",
        "  print(x)\n",
        "  x += 2\n",
        "\n",
        "\n"
      ],
      "metadata": {
        "id": "ziKsBozQKj2q",
        "outputId": "1ab52890-cd98-4d73-f086-0e6aae8dc0d4",
        "colab": {
          "base_uri": "https://localhost:8080/"
        }
      },
      "execution_count": null,
      "outputs": [
        {
          "output_type": "stream",
          "name": "stdout",
          "text": [
            "2\n",
            "4\n",
            "6\n",
            "8\n",
            "10\n",
            "12\n",
            "14\n",
            "16\n",
            "18\n",
            "20\n",
            "22\n",
            "24\n",
            "26\n",
            "28\n",
            "30\n",
            "32\n",
            "34\n",
            "36\n",
            "38\n",
            "40\n",
            "42\n",
            "44\n",
            "46\n",
            "48\n",
            "50\n",
            "52\n",
            "54\n",
            "56\n",
            "58\n",
            "60\n",
            "62\n",
            "64\n",
            "66\n",
            "68\n",
            "70\n",
            "72\n",
            "74\n",
            "76\n",
            "78\n",
            "80\n",
            "82\n",
            "84\n",
            "86\n",
            "88\n",
            "90\n",
            "92\n",
            "94\n",
            "96\n",
            "98\n",
            "100\n"
          ]
        }
      ]
    },
    {
      "cell_type": "code",
      "source": [
        "# range + modulo\n",
        "\n",
        "for x in range(1,101): #proč je interval <1;101) ? :-o\n",
        "  if x%2 == 0:\n",
        "    print(x)\n",
        "  else: continue"
      ],
      "metadata": {
        "id": "vo2Dlj-kP-IB",
        "outputId": "478c70d4-b7e1-489c-82aa-d084dcbe3ce5",
        "colab": {
          "base_uri": "https://localhost:8080/"
        }
      },
      "execution_count": null,
      "outputs": [
        {
          "output_type": "stream",
          "name": "stdout",
          "text": [
            "2\n",
            "4\n",
            "6\n",
            "8\n",
            "10\n",
            "12\n",
            "14\n",
            "16\n",
            "18\n",
            "20\n",
            "22\n",
            "24\n",
            "26\n",
            "28\n",
            "30\n",
            "32\n",
            "34\n",
            "36\n",
            "38\n",
            "40\n",
            "42\n",
            "44\n",
            "46\n",
            "48\n",
            "50\n",
            "52\n",
            "54\n",
            "56\n",
            "58\n",
            "60\n",
            "62\n",
            "64\n",
            "66\n",
            "68\n",
            "70\n",
            "72\n",
            "74\n",
            "76\n",
            "78\n",
            "80\n",
            "82\n",
            "84\n",
            "86\n",
            "88\n",
            "90\n",
            "92\n",
            "94\n",
            "96\n",
            "98\n",
            "100\n"
          ]
        }
      ]
    },
    {
      "cell_type": "code",
      "source": [
        "# range, step 2\n",
        "\n",
        "for x in range(2,101,2):\n",
        "  print(x)"
      ],
      "metadata": {
        "id": "R10KrEPkQO38",
        "outputId": "ed2c3f45-9bf6-4031-ba9a-2ff2ed846d7d",
        "colab": {
          "base_uri": "https://localhost:8080/"
        }
      },
      "execution_count": null,
      "outputs": [
        {
          "output_type": "stream",
          "name": "stdout",
          "text": [
            "2\n",
            "4\n",
            "6\n",
            "8\n",
            "10\n",
            "12\n",
            "14\n",
            "16\n",
            "18\n",
            "20\n",
            "22\n",
            "24\n",
            "26\n",
            "28\n",
            "30\n",
            "32\n",
            "34\n",
            "36\n",
            "38\n",
            "40\n",
            "42\n",
            "44\n",
            "46\n",
            "48\n",
            "50\n",
            "52\n",
            "54\n",
            "56\n",
            "58\n",
            "60\n",
            "62\n",
            "64\n",
            "66\n",
            "68\n",
            "70\n",
            "72\n",
            "74\n",
            "76\n",
            "78\n",
            "80\n",
            "82\n",
            "84\n",
            "86\n",
            "88\n",
            "90\n",
            "92\n",
            "94\n",
            "96\n",
            "98\n",
            "100\n"
          ]
        }
      ]
    },
    {
      "cell_type": "markdown",
      "source": [
        "# 6. Vypište všechna prvočísla od 2 do 100.\n",
        "Definice prvočísel viz Google."
      ],
      "metadata": {
        "id": "OUTMeaAyTHgc"
      }
    },
    {
      "cell_type": "code",
      "source": [
        "# Vypište všechna prvočísla od 2 do 100. Definice prvočísel viz Google.\n",
        "\n",
        "#for x in range (2,101):\n",
        "#    print(x);\n",
        "\n",
        "x = 6 # definice x\n",
        "y = [2,3,4,5,6,7,8,9] # definice dělitelů\n",
        "\n",
        "for z in y:\n",
        "  if z < x: # pokud je dělitel menší než x\n",
        "    mod_z = x%z #modulo\n",
        "    print(mod_z)\n",
        "\n",
        "# pokud v souboru mod_z není nula vypiš x\n",
        "\n",
        "# asi slepá ulička\n"
      ],
      "metadata": {
        "colab": {
          "base_uri": "https://localhost:8080/"
        },
        "id": "gc3bUIBrTWQk",
        "outputId": "4366253b-983b-4b76-80dd-bf741b3e7f51"
      },
      "execution_count": 64,
      "outputs": [
        {
          "output_type": "stream",
          "name": "stdout",
          "text": [
            "0\n",
            "0\n",
            "2\n",
            "1\n"
          ]
        }
      ]
    },
    {
      "cell_type": "code",
      "source": [
        "# podle řešení\n",
        "\n",
        "for x in range (2,101): # rozsah x <2,101)\n",
        "  prvocislo = True # pro každé čílso z rozsahu přiřadím atributu prvocislo defautlní hdonotu True\n",
        "\n",
        "  for y in range (2,x): # definice delitelů - rozsah <2,x)\n",
        "    if (x % y == 0): # pokud je zbytek po dělení x daným dělitelem y roven 0\n",
        "      prvocislo = False # prirad u daneho cisla atributu prvocislo hodnotu False\n",
        "      break # a ukonci cyklus\n",
        "\n",
        "  if prvocislo == True: # pokud je atribut prvocislo = True\n",
        "      print(x) # vypiš x"
      ],
      "metadata": {
        "id": "MGy0GQbucgR0",
        "outputId": "2d39d454-dc97-4697-f6cf-013e185b2429",
        "colab": {
          "base_uri": "https://localhost:8080/"
        }
      },
      "execution_count": 74,
      "outputs": [
        {
          "output_type": "stream",
          "name": "stdout",
          "text": [
            "2\n",
            "3\n",
            "5\n",
            "7\n",
            "11\n",
            "13\n",
            "17\n",
            "19\n",
            "23\n",
            "29\n",
            "31\n",
            "37\n",
            "41\n",
            "43\n",
            "47\n",
            "53\n",
            "59\n",
            "61\n",
            "67\n",
            "71\n",
            "73\n",
            "79\n",
            "83\n",
            "89\n",
            "97\n"
          ]
        }
      ]
    }
  ]
}