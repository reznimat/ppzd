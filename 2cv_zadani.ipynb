{
  "nbformat": 4,
  "nbformat_minor": 0,
  "metadata": {
    "colab": {
      "provenance": [],
      "include_colab_link": true
    },
    "kernelspec": {
      "name": "python3",
      "display_name": "Python 3"
    },
    "language_info": {
      "name": "python"
    }
  },
  "cells": [
    {
      "cell_type": "markdown",
      "metadata": {
        "id": "view-in-github",
        "colab_type": "text"
      },
      "source": [
        "<a href=\"https://colab.research.google.com/github/reznimat/ppzd/blob/main/2cv_zadani.ipynb\" target=\"_parent\"><img src=\"https://colab.research.google.com/assets/colab-badge.svg\" alt=\"Open In Colab\"/></a>"
      ]
    },
    {
      "cell_type": "markdown",
      "metadata": {
        "id": "2cVoQCcY9evu"
      },
      "source": [
        "# 2. cvičení\n",
        "\n",
        "Úkoly:\n",
        "\n",
        "1.   Podmínka if - podle hodnoty proměnné x vypište informaci, jestli je větší nebo menší než číslo 5.\n",
        "2.   Vytvořte pole s křestními jmény některých Vašich spolužáků.\n",
        "3.   Vypište toto pole v podobě: **můj spolužák se jmenuje *Honza***\n",
        "4.   Seřaďte pole podle abecedy a opět vypište.\n",
        "5.   Vypište všechna sudá čísla od 2 do 100. (Nápověda: 2, 4 ... 100)\n",
        "6.   Vypište všechna prvočísla od 2 do 100. Definice prvočísel viz Google.\n",
        "\n"
      ]
    }
  ]
}